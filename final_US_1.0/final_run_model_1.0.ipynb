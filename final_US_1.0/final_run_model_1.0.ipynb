{
 "cells": [
  {
   "cell_type": "code",
   "execution_count": null,
   "id": "163a5213-ce2a-41c6-85ce-8ada67852ad3",
   "metadata": {},
   "outputs": [],
   "source": [
    "# 20250525\n",
    "# part 2, \n",
    "\n",
    "# gened with get_headline_2.2 ,(2.0) & model_3.0\n",
    "# original prompt in drive"
   ]
  },
  {
   "cell_type": "code",
   "execution_count": 1,
   "id": "18ddcd41-fde6-4a37-aef7-3263caa3467a",
   "metadata": {},
   "outputs": [],
   "source": [
    "# Cell 1: Imports and Setup\n",
    "import pandas as pd\n",
    "from joblib import load\n",
    "import numpy as np\n",
    "\n",
    "# Cell 2: Model Loading Function\n",
    "def load_sector_model(sector_name):\n",
    "    # Convert sector name to match filename convention\n",
    "    formatted_name = sector_name.replace(\" \", \"_\")\n",
    "    model_path = Path(f\"sector_models_2/{formatted_name}_model.joblib\")\n",
    "    \n",
    "    if not model_path.exists():\n",
    "        raise FileNotFoundError(f\"Sector model not found: {model_path}\")\n",
    "        \n",
    "    return load(model_path)"
   ]
  },
  {
   "cell_type": "code",
   "execution_count": 2,
   "id": "fe08beef-f4ec-4884-b754-0d2fb45bf9ba",
   "metadata": {},
   "outputs": [],
   "source": [
    "\n",
    "# Cell 3: Calculation Functions\n",
    "def calculate_return(row, model):\n",
    "    coeffs = model['coefficients']\n",
    "    return (\n",
    "        coeffs['positive'] * row['Positive'] +\n",
    "        coeffs['neutral'] * row['Neutral'] +\n",
    "        coeffs['negative'] * row['Negative'] +\n",
    "        model['intercept']\n",
    "    )\n",
    "\n",
    "def calculate_risk(row):\n",
    "    return 1 - max(row['Positive'], row['Neutral'], row['Negative'])\n"
   ]
  },
  {
   "cell_type": "code",
   "execution_count": 3,
   "id": "7f2636e5-b2ef-47ca-8453-79d679d20247",
   "metadata": {},
   "outputs": [],
   "source": [
    "# Cell 4: Main Processing Functions\n",
    "from pathlib import Path\n",
    "\n",
    "def load_sector_model(sector_name):\n",
    "    \"\"\"Load model with proper filename handling\"\"\"\n",
    "    formatted_name = sector_name.replace(\" \", \"_\")\n",
    "    model_path = Path(f\"sector_models_2/{formatted_name}_model.joblib\")\n",
    "    \n",
    "    if not model_path.exists():\n",
    "        raise FileNotFoundError(f\"Model not found: {model_path}\")\n",
    "    \n",
    "    return load(model_path)\n",
    "\n",
    "def calculate_return(row, model):\n",
    "    \"\"\"Calculate predicted return using model coefficients\"\"\"\n",
    "    return (\n",
    "        model['coefficients']['positive'] * row['Positive'] +\n",
    "        model['coefficients']['neutral'] * row['Neutral'] +\n",
    "        model['coefficients']['negative'] * row['Negative'] +\n",
    "        model['intercept']\n",
    "    )\n",
    "\n",
    "def calculate_risk(row):\n",
    "    \"\"\"Calculate risk as 1 - max sentiment score\"\"\"\n",
    "    return 1 - max(row['Positive'], row['Neutral'], row['Negative'])\n",
    "\n",
    "def run_model_predictions(ticker, sentiment_file):\n",
    "    \"\"\"Main prediction function with fallback logic\"\"\"\n",
    "    try:\n",
    "        # Load data and extract sector name\n",
    "        df = pd.read_csv(sentiment_file)\n",
    "        sector_name = Path(sentiment_file).name.split('_')[0]\n",
    "        \n",
    "        # Load appropriate sector model\n",
    "        model = load_sector_model(sector_name)\n",
    "        \n",
    "        # Find relevant data\n",
    "        company_data = df[df['Ticker'] == ticker]\n",
    "        sector_data = df[df['Ticker'] == 'SECTOR']\n",
    "        \n",
    "        # Data fallback logic\n",
    "        if not company_data.empty:\n",
    "            data = company_data.iloc[0]\n",
    "            source = \"Company\"\n",
    "        elif not sector_data.empty:\n",
    "            data = sector_data.iloc[0]\n",
    "            source = \"SECTOR\"\n",
    "            print(f\"- Using sector data as fallback for {ticker}\")\n",
    "        else:\n",
    "            print(f\"- No data available for {ticker} or sector\")\n",
    "            return\n",
    "\n",
    "        # Calculate metrics\n",
    "        return_val = calculate_return(data, model)\n",
    "        risk_val = calculate_risk(data)\n",
    "        \n",
    "        # Print formatted results\n",
    "        print(f\"\\n{' Prediction Results ':=^40}\")\n",
    "        print(f\"Ticker:       {ticker}\")\n",
    "        print(f\"Source:       {source}\")\n",
    "        print(f\"Return:       {return_val:.6f}\")\n",
    "        print(f\"Risk:         {risk_val:.6f}\")\n",
    "        print(f\"Sector Model: {sector_name.replace('_', ' ')}\")\n",
    "        print(f\"Data File:    {Path(sentiment_file).name}\")\n",
    "        print(\"=\" * 40)\n",
    "        \n",
    "    except Exception as e:\n",
    "        print(f\"- Error processing {ticker}: {str(e)}\")\n"
   ]
  },
  {
   "cell_type": "code",
   "execution_count": 5,
   "id": "58e20392-62f3-40c5-83c3-e8e0a41eb3dc",
   "metadata": {},
   "outputs": [
    {
     "name": "stdin",
     "output_type": "stream",
     "text": [
      "Enter ticker symbol (e.g. AAPL):  APPL\n"
     ]
    },
    {
     "name": "stdout",
     "output_type": "stream",
     "text": [
      "- Using sector data as fallback for APPL\n",
      "\n",
      "========== Prediction Results ==========\n",
      "Ticker:       APPL\n",
      "Source:       SECTOR\n",
      "Return:       0.003866\n",
      "Risk:         0.266911\n",
      "Sector Model: Basic Materials\n",
      "Data File:    Basic Materials_sentiments.csv\n",
      "========================================\n"
     ]
    }
   ],
   "source": [
    "# Cell 5: Execution with User Input\n",
    "if __name__ == \"__main__\":\n",
    "    ticker = input(\"Enter ticker symbol (e.g. AAPL): \").strip().upper()\n",
    "    csv_file = \"Basic Materials_sentiments.csv\"\n",
    "    run_model_predictions(ticker, csv_file)\n"
   ]
  },
  {
   "cell_type": "code",
   "execution_count": null,
   "id": "ce945561-153a-4387-8941-cf8b77804fb2",
   "metadata": {},
   "outputs": [],
   "source": []
  }
 ],
 "metadata": {
  "kernelspec": {
   "display_name": "Python 3 (ipykernel)",
   "language": "python",
   "name": "python3"
  },
  "language_info": {
   "codemirror_mode": {
    "name": "ipython",
    "version": 3
   },
   "file_extension": ".py",
   "mimetype": "text/x-python",
   "name": "python",
   "nbconvert_exporter": "python",
   "pygments_lexer": "ipython3",
   "version": "3.8.20"
  }
 },
 "nbformat": 4,
 "nbformat_minor": 5
}
